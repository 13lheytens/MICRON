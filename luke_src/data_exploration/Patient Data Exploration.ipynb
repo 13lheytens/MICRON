{
 "cells": [
  {
   "cell_type": "code",
   "execution_count": 1,
   "id": "d3ca5332",
   "metadata": {},
   "outputs": [],
   "source": [
    "import dill\n",
    "import numpy as np\n",
    "import pandas as pd"
   ]
  },
  {
   "cell_type": "markdown",
   "id": "74914430",
   "metadata": {},
   "source": [
    "## Common Acronymns Defined\n",
    "\n",
    "- \"DDI\" -> Drug-Drug Interaction\n",
    "- \"NDC\" -> National Drug Code [FDA link](https://fda.report/NDC)\n",
    "- \"ATC\" -> Anatomical Therapeutic Chemical [WHO link](https://www.whocc.no/atc/structure_and_principles/)\n",
    "- \"ICD9\" -> International Classification of Diseases [CDC Link](https://www.cdc.gov/nchs/icd/icd9cm.htm)\n",
    "\n",
    "### Column Names\n",
    "- \"PRO_CODE\" -> Process ICD9 code from mimiciii PROCEDURES_ICD.csv\n",
    "- \"HADM\" -> Hospital Admission ID "
   ]
  },
  {
   "cell_type": "code",
   "execution_count": 2,
   "id": "202dd4fe",
   "metadata": {},
   "outputs": [
    {
     "name": "stdout",
     "output_type": "stream",
     "text": [
      "Number of rows: 6349\n"
     ]
    }
   ],
   "source": [
    "data_dir = '../../data/'\n",
    "data_path = data_dir + 'records_final.pkl'\n",
    "data = dill.load(open(data_path, 'rb'))\n",
    "print('Number of rows:', len(data))"
   ]
  },
  {
   "cell_type": "code",
   "execution_count": 3,
   "id": "785a46e4",
   "metadata": {},
   "outputs": [
    {
     "data": {
      "text/plain": [
       "[[[0, 1, 2, 3, 4, 5, 6, 7],\n",
       "  [0, 1, 2],\n",
       "  [0, 1, 2, 3, 4, 5, 6, 7, 8, 9, 10, 11, 12, 13, 14]],\n",
       " [[8, 9, 10, 7],\n",
       "  [3, 4, 1],\n",
       "  [0, 1, 2, 3, 5, 4, 6, 7, 8, 9, 10, 12, 14, 15, 16, 17]]]"
      ]
     },
     "execution_count": 3,
     "metadata": {},
     "output_type": "execute_result"
    }
   ],
   "source": [
    "data[0]\n"
   ]
  },
  {
   "cell_type": "markdown",
   "id": "977f47f1",
   "metadata": {},
   "source": [
    "## Sample Patient Record"
   ]
  },
  {
   "cell_type": "code",
   "execution_count": 4,
   "id": "6308fd92",
   "metadata": {},
   "outputs": [
    {
     "name": "stdout",
     "output_type": "stream",
     "text": [
      "Number of visits:  3\n",
      "First Visit:\n"
     ]
    },
    {
     "data": {
      "text/plain": [
       "[[15, 464, 13, 54, 95, 18, 1359, 69, 309, 61, 178, 172, 296],\n",
       " [209],\n",
       " [1, 4, 7, 12, 6, 3, 2, 21, 61, 26, 13, 11, 103, 83]]"
      ]
     },
     "metadata": {},
     "output_type": "display_data"
    }
   ],
   "source": [
    "patient_records = data[-1]\n",
    "print('Number of visits: ', len(patient_records))\n",
    "print('First Visit:')\n",
    "display(patient_records[0])"
   ]
  },
  {
   "cell_type": "code",
   "execution_count": 5,
   "id": "1f427003",
   "metadata": {},
   "outputs": [
    {
     "name": "stdout",
     "output_type": "stream",
     "text": [
      "Encoded Visit Diagnosis Codes:\n"
     ]
    },
    {
     "data": {
      "text/plain": [
       "[15, 464, 13, 54, 95, 18, 1359, 69, 309, 61, 178, 172, 296]"
      ]
     },
     "metadata": {},
     "output_type": "display_data"
    },
    {
     "name": "stdout",
     "output_type": "stream",
     "text": [
      "Encoded Visit Procedure Codes:\n"
     ]
    },
    {
     "data": {
      "text/plain": [
       "[209]"
      ]
     },
     "metadata": {},
     "output_type": "display_data"
    },
    {
     "name": "stdout",
     "output_type": "stream",
     "text": [
      "Encoded Visit Medical Codes:\n"
     ]
    },
    {
     "data": {
      "text/plain": [
       "[1, 4, 7, 12, 6, 3, 2, 21, 61, 26, 13, 11, 103, 83]"
      ]
     },
     "metadata": {},
     "output_type": "display_data"
    }
   ],
   "source": [
    "print('Encoded Visit Diagnosis Codes:')\n",
    "display(patient_records[0][0])\n",
    "print('Encoded Visit Procedure Codes:')\n",
    "display(patient_records[0][1])\n",
    "print('Encoded Visit Medical Codes:')\n",
    "display(patient_records[0][2])"
   ]
  },
  {
   "cell_type": "code",
   "execution_count": 6,
   "id": "389ff6e4",
   "metadata": {},
   "outputs": [
    {
     "name": "stdout",
     "output_type": "stream",
     "text": [
      "Original Visit Diagnosis Codes:\n"
     ]
    },
    {
     "data": {
      "text/plain": [
       "['4280',\n",
       " '42823',\n",
       " '5849',\n",
       " '4254',\n",
       " '2763',\n",
       " '42731',\n",
       " '78729',\n",
       " '53081',\n",
       " 'V422',\n",
       " 'V5861',\n",
       " '4168',\n",
       " '56400',\n",
       " '2768']"
      ]
     },
     "metadata": {},
     "output_type": "display_data"
    },
    {
     "name": "stdout",
     "output_type": "stream",
     "text": [
      "Original Visit Procedure Codes:\n"
     ]
    },
    {
     "data": {
      "text/plain": [
       "[3721]"
      ]
     },
     "metadata": {},
     "output_type": "display_data"
    },
    {
     "name": "stdout",
     "output_type": "stream",
     "text": [
      "Original Visit Medical Codes:\n"
     ]
    },
    {
     "data": {
      "text/plain": [
       "['A01A',\n",
       " 'B05C',\n",
       " 'C01C',\n",
       " 'C03C',\n",
       " 'A12C',\n",
       " 'A06A',\n",
       " 'A02B',\n",
       " 'B01A',\n",
       " 'C01A',\n",
       " 'C01B',\n",
       " 'A12B',\n",
       " 'C07A',\n",
       " 'C03B',\n",
       " 'C09C']"
      ]
     },
     "metadata": {},
     "output_type": "display_data"
    }
   ],
   "source": [
    "# I received an error when loading the original `voc_final.pkl` file with dill. So I created separate csv files\n",
    "# for each voc mapping.\n",
    "diag_voc = pd.read_csv(data_dir + 'diag_voc.csv', index_col='idx').word.to_dict()\n",
    "pro_voc = pd.read_csv(data_dir +'pro_voc.csv', index_col='idx').word.to_dict()\n",
    "med_voc = pd.read_csv(data_dir +'med_voc.csv', index_col='idx').word.to_dict()\n",
    "\n",
    "\n",
    "print('Original Visit Diagnosis Codes:')\n",
    "display([diag_voc[i] for i in patient_records[0][0]])\n",
    "print('Original Visit Procedure Codes:')\n",
    "display([pro_voc[i] for i in patient_records[0][1]])\n",
    "print('Original Visit Medical Codes:')\n",
    "display([med_voc[i] for i in patient_records[0][2]])"
   ]
  },
  {
   "cell_type": "code",
   "execution_count": 7,
   "id": "f2b217d3",
   "metadata": {},
   "outputs": [
    {
     "data": {
      "text/plain": [
       "array([[0., 0., 0., ..., 0., 0., 0.],\n",
       "       [0., 0., 0., ..., 0., 1., 0.],\n",
       "       [0., 0., 0., ..., 0., 0., 0.],\n",
       "       ...,\n",
       "       [0., 0., 0., ..., 0., 0., 0.],\n",
       "       [0., 1., 0., ..., 0., 0., 0.],\n",
       "       [0., 0., 0., ..., 0., 0., 0.]])"
      ]
     },
     "execution_count": 7,
     "metadata": {},
     "output_type": "execute_result"
    }
   ],
   "source": [
    "ddi_adj_path = data_dir + 'ddi_A_final.pkl'\n",
    "ddi_adj = dill.load(open(ddi_adj_path, 'rb'))\n",
    "ddi_adj"
   ]
  },
  {
   "cell_type": "code",
   "execution_count": 8,
   "id": "f759c7e8",
   "metadata": {},
   "outputs": [
    {
     "data": {
      "text/html": [
       "<div>\n",
       "<style scoped>\n",
       "    .dataframe tbody tr th:only-of-type {\n",
       "        vertical-align: middle;\n",
       "    }\n",
       "\n",
       "    .dataframe tbody tr th {\n",
       "        vertical-align: top;\n",
       "    }\n",
       "\n",
       "    .dataframe thead th {\n",
       "        text-align: right;\n",
       "    }\n",
       "</style>\n",
       "<table border=\"1\" class=\"dataframe\">\n",
       "  <thead>\n",
       "    <tr style=\"text-align: right;\">\n",
       "      <th></th>\n",
       "      <th>SUBJECT_ID</th>\n",
       "      <th>HADM_ID</th>\n",
       "      <th>ICD9_CODE</th>\n",
       "      <th>NDC</th>\n",
       "      <th>PRO_CODE</th>\n",
       "      <th>NDC_Len</th>\n",
       "    </tr>\n",
       "  </thead>\n",
       "  <tbody>\n",
       "    <tr>\n",
       "      <th>14992</th>\n",
       "      <td>99982</td>\n",
       "      <td>112748</td>\n",
       "      <td>[4280, 42823, 5849, 4254, 2763, 42731, 78729, ...</td>\n",
       "      <td>[A01A, B05C, C01C, C03C, A12C, A06A, A02B, B01...</td>\n",
       "      <td>[3721]</td>\n",
       "      <td>14</td>\n",
       "    </tr>\n",
       "    <tr>\n",
       "      <th>14993</th>\n",
       "      <td>99982</td>\n",
       "      <td>151454</td>\n",
       "      <td>[42823, 4254, 2875, 42731, 3970, 5303, 4280, V...</td>\n",
       "      <td>[N02B, A01A, A06A, B05C, A12A, A12C, C01C, N01...</td>\n",
       "      <td>[3527, 3961]</td>\n",
       "      <td>20</td>\n",
       "    </tr>\n",
       "    <tr>\n",
       "      <th>14994</th>\n",
       "      <td>99982</td>\n",
       "      <td>183791</td>\n",
       "      <td>[5849, 42731, 4280, 2875, 53081, 56400, 78720,...</td>\n",
       "      <td>[A01A, A06A, B05C, N02B, C03C, A03B, B01A, A12...</td>\n",
       "      <td>[3721, 3897, 8964]</td>\n",
       "      <td>21</td>\n",
       "    </tr>\n",
       "  </tbody>\n",
       "</table>\n",
       "</div>"
      ],
      "text/plain": [
       "       SUBJECT_ID  HADM_ID                                          ICD9_CODE  \\\n",
       "14992       99982   112748  [4280, 42823, 5849, 4254, 2763, 42731, 78729, ...   \n",
       "14993       99982   151454  [42823, 4254, 2875, 42731, 3970, 5303, 4280, V...   \n",
       "14994       99982   183791  [5849, 42731, 4280, 2875, 53081, 56400, 78720,...   \n",
       "\n",
       "                                                     NDC            PRO_CODE  \\\n",
       "14992  [A01A, B05C, C01C, C03C, A12C, A06A, A02B, B01...              [3721]   \n",
       "14993  [N02B, A01A, A06A, B05C, A12A, A12C, C01C, N01...        [3527, 3961]   \n",
       "14994  [A01A, A06A, B05C, N02B, C03C, A03B, B01A, A12...  [3721, 3897, 8964]   \n",
       "\n",
       "       NDC_Len  \n",
       "14992       14  \n",
       "14993       20  \n",
       "14994       21  "
      ]
     },
     "execution_count": 8,
     "metadata": {},
     "output_type": "execute_result"
    }
   ],
   "source": [
    "data_final_path = data_dir + '/data_final.pkl'\n",
    "data_final = dill.load(open(data_final_path, 'rb')) \n",
    "data_final[data_final.SUBJECT_ID == data_final.SUBJECT_ID.unique()[-1]]"
   ]
  },
  {
   "cell_type": "code",
   "execution_count": null,
   "id": "8d07a319",
   "metadata": {},
   "outputs": [],
   "source": []
  },
  {
   "cell_type": "code",
   "execution_count": 9,
   "id": "e99cff49",
   "metadata": {
    "scrolled": false
   },
   "outputs": [
    {
     "data": {
      "text/html": [
       "<div>\n",
       "<style scoped>\n",
       "    .dataframe tbody tr th:only-of-type {\n",
       "        vertical-align: middle;\n",
       "    }\n",
       "\n",
       "    .dataframe tbody tr th {\n",
       "        vertical-align: top;\n",
       "    }\n",
       "\n",
       "    .dataframe thead th {\n",
       "        text-align: right;\n",
       "    }\n",
       "</style>\n",
       "<table border=\"1\" class=\"dataframe\">\n",
       "  <thead>\n",
       "    <tr style=\"text-align: right;\">\n",
       "      <th></th>\n",
       "      <th>SUBJECT_ID</th>\n",
       "      <th>HADM_ID</th>\n",
       "      <th>ICD9_CODE</th>\n",
       "      <th>NDC</th>\n",
       "      <th>PRO_CODE</th>\n",
       "      <th>NDC_Len</th>\n",
       "    </tr>\n",
       "  </thead>\n",
       "  <tbody>\n",
       "    <tr>\n",
       "      <th>0</th>\n",
       "      <td>17</td>\n",
       "      <td>161087</td>\n",
       "      <td>[4239, 5119, 78551, 4589, 311, 7220, 71946, 2724]</td>\n",
       "      <td>[N02B, A01A, A02B, A06A, B05C, A12A, A12C, C01...</td>\n",
       "      <td>[3731, 8872, 3893]</td>\n",
       "      <td>15</td>\n",
       "    </tr>\n",
       "    <tr>\n",
       "      <th>1</th>\n",
       "      <td>17</td>\n",
       "      <td>194023</td>\n",
       "      <td>[7455, 45829, V1259, 2724]</td>\n",
       "      <td>[N02B, A01A, A02B, A06A, A12A, B05C, A12C, C01...</td>\n",
       "      <td>[3571, 3961, 8872]</td>\n",
       "      <td>16</td>\n",
       "    </tr>\n",
       "    <tr>\n",
       "      <th>2</th>\n",
       "      <td>21</td>\n",
       "      <td>109451</td>\n",
       "      <td>[41071, 78551, 5781, 5849, 40391, 4280, 4592, ...</td>\n",
       "      <td>[A06A, B05C, C07A, A12B, C03C, A12A, A02A, J01...</td>\n",
       "      <td>[0066, 3761, 3950, 3606, 0042, 0047, 3895, 399...</td>\n",
       "      <td>23</td>\n",
       "    </tr>\n",
       "    <tr>\n",
       "      <th>3</th>\n",
       "      <td>21</td>\n",
       "      <td>111970</td>\n",
       "      <td>[0388, 78552, 40391, 42731, 70709, 5119, 6823,...</td>\n",
       "      <td>[N02B, A06A, B05C, A12C, A07A, A02A, B01A, N06...</td>\n",
       "      <td>[3995, 8961, 0014]</td>\n",
       "      <td>19</td>\n",
       "    </tr>\n",
       "    <tr>\n",
       "      <th>4</th>\n",
       "      <td>23</td>\n",
       "      <td>124321</td>\n",
       "      <td>[2252, 3485, 78039, 4241, 4019, 2720, 2724, V4...</td>\n",
       "      <td>[B05C, A07A, C07A, A06A, N02B, C02D, B01A, A02...</td>\n",
       "      <td>[0151]</td>\n",
       "      <td>17</td>\n",
       "    </tr>\n",
       "    <tr>\n",
       "      <th>...</th>\n",
       "      <td>...</td>\n",
       "      <td>...</td>\n",
       "      <td>...</td>\n",
       "      <td>...</td>\n",
       "      <td>...</td>\n",
       "      <td>...</td>\n",
       "    </tr>\n",
       "    <tr>\n",
       "      <th>14990</th>\n",
       "      <td>99923</td>\n",
       "      <td>164914</td>\n",
       "      <td>[45829, 4532, 2761, 5723, 4561, 45621, 5849, 7...</td>\n",
       "      <td>[N02B, A02A, B01A, A06A, J01M, H01C, A07A, C01C]</td>\n",
       "      <td>[5491, 4513]</td>\n",
       "      <td>8</td>\n",
       "    </tr>\n",
       "    <tr>\n",
       "      <th>14991</th>\n",
       "      <td>99923</td>\n",
       "      <td>192053</td>\n",
       "      <td>[5712, 5856, 5724, 40391, 9974, 5601, 30393, V...</td>\n",
       "      <td>[A06A, A12A, A12C, N01A, C07A, C03C, B01A, A02...</td>\n",
       "      <td>[5059, 504, 5569, 0093]</td>\n",
       "      <td>24</td>\n",
       "    </tr>\n",
       "    <tr>\n",
       "      <th>14992</th>\n",
       "      <td>99982</td>\n",
       "      <td>112748</td>\n",
       "      <td>[4280, 42823, 5849, 4254, 2763, 42731, 78729, ...</td>\n",
       "      <td>[A01A, B05C, C01C, C03C, A12C, A06A, A02B, B01...</td>\n",
       "      <td>[3721]</td>\n",
       "      <td>14</td>\n",
       "    </tr>\n",
       "    <tr>\n",
       "      <th>14993</th>\n",
       "      <td>99982</td>\n",
       "      <td>151454</td>\n",
       "      <td>[42823, 4254, 2875, 42731, 3970, 5303, 4280, V...</td>\n",
       "      <td>[N02B, A01A, A06A, B05C, A12A, A12C, C01C, N01...</td>\n",
       "      <td>[3527, 3961]</td>\n",
       "      <td>20</td>\n",
       "    </tr>\n",
       "    <tr>\n",
       "      <th>14994</th>\n",
       "      <td>99982</td>\n",
       "      <td>183791</td>\n",
       "      <td>[5849, 42731, 4280, 2875, 53081, 56400, 78720,...</td>\n",
       "      <td>[A01A, A06A, B05C, N02B, C03C, A03B, B01A, A12...</td>\n",
       "      <td>[3721, 3897, 8964]</td>\n",
       "      <td>21</td>\n",
       "    </tr>\n",
       "  </tbody>\n",
       "</table>\n",
       "<p>14995 rows × 6 columns</p>\n",
       "</div>"
      ],
      "text/plain": [
       "       SUBJECT_ID  HADM_ID                                          ICD9_CODE  \\\n",
       "0              17   161087  [4239, 5119, 78551, 4589, 311, 7220, 71946, 2724]   \n",
       "1              17   194023                         [7455, 45829, V1259, 2724]   \n",
       "2              21   109451  [41071, 78551, 5781, 5849, 40391, 4280, 4592, ...   \n",
       "3              21   111970  [0388, 78552, 40391, 42731, 70709, 5119, 6823,...   \n",
       "4              23   124321  [2252, 3485, 78039, 4241, 4019, 2720, 2724, V4...   \n",
       "...           ...      ...                                                ...   \n",
       "14990       99923   164914  [45829, 4532, 2761, 5723, 4561, 45621, 5849, 7...   \n",
       "14991       99923   192053  [5712, 5856, 5724, 40391, 9974, 5601, 30393, V...   \n",
       "14992       99982   112748  [4280, 42823, 5849, 4254, 2763, 42731, 78729, ...   \n",
       "14993       99982   151454  [42823, 4254, 2875, 42731, 3970, 5303, 4280, V...   \n",
       "14994       99982   183791  [5849, 42731, 4280, 2875, 53081, 56400, 78720,...   \n",
       "\n",
       "                                                     NDC  \\\n",
       "0      [N02B, A01A, A02B, A06A, B05C, A12A, A12C, C01...   \n",
       "1      [N02B, A01A, A02B, A06A, A12A, B05C, A12C, C01...   \n",
       "2      [A06A, B05C, C07A, A12B, C03C, A12A, A02A, J01...   \n",
       "3      [N02B, A06A, B05C, A12C, A07A, A02A, B01A, N06...   \n",
       "4      [B05C, A07A, C07A, A06A, N02B, C02D, B01A, A02...   \n",
       "...                                                  ...   \n",
       "14990   [N02B, A02A, B01A, A06A, J01M, H01C, A07A, C01C]   \n",
       "14991  [A06A, A12A, A12C, N01A, C07A, C03C, B01A, A02...   \n",
       "14992  [A01A, B05C, C01C, C03C, A12C, A06A, A02B, B01...   \n",
       "14993  [N02B, A01A, A06A, B05C, A12A, A12C, C01C, N01...   \n",
       "14994  [A01A, A06A, B05C, N02B, C03C, A03B, B01A, A12...   \n",
       "\n",
       "                                                PRO_CODE  NDC_Len  \n",
       "0                                     [3731, 8872, 3893]       15  \n",
       "1                                     [3571, 3961, 8872]       16  \n",
       "2      [0066, 3761, 3950, 3606, 0042, 0047, 3895, 399...       23  \n",
       "3                                     [3995, 8961, 0014]       19  \n",
       "4                                                 [0151]       17  \n",
       "...                                                  ...      ...  \n",
       "14990                                       [5491, 4513]        8  \n",
       "14991                            [5059, 504, 5569, 0093]       24  \n",
       "14992                                             [3721]       14  \n",
       "14993                                       [3527, 3961]       20  \n",
       "14994                                 [3721, 3897, 8964]       21  \n",
       "\n",
       "[14995 rows x 6 columns]"
      ]
     },
     "execution_count": 9,
     "metadata": {},
     "output_type": "execute_result"
    }
   ],
   "source": [
    "data_final.sort_values(['SUBJECT_ID', 'HADM_ID'])"
   ]
  },
  {
   "cell_type": "code",
   "execution_count": 10,
   "id": "c9aefc41",
   "metadata": {},
   "outputs": [
    {
     "data": {
      "text/plain": [
       "6349"
      ]
     },
     "execution_count": 10,
     "metadata": {},
     "output_type": "execute_result"
    }
   ],
   "source": [
    "len(data_final.SUBJECT_ID.unique())"
   ]
  },
  {
   "cell_type": "code",
   "execution_count": 13,
   "id": "af0b36a5",
   "metadata": {},
   "outputs": [
    {
     "name": "stdout",
     "output_type": "stream",
     "text": [
      "Patients with multiple visits: 5421\n"
     ]
    }
   ],
   "source": [
    "print('Patients with multiple visits:', (data_final.groupby('SUBJECT_ID').HADM_ID.nunique() > 1).sum())"
   ]
  },
  {
   "cell_type": "code",
   "execution_count": null,
   "id": "54557caf",
   "metadata": {},
   "outputs": [],
   "source": []
  }
 ],
 "metadata": {
  "kernelspec": {
   "display_name": "Python 3",
   "language": "python",
   "name": "python3"
  },
  "language_info": {
   "codemirror_mode": {
    "name": "ipython",
    "version": 3
   },
   "file_extension": ".py",
   "mimetype": "text/x-python",
   "name": "python",
   "nbconvert_exporter": "python",
   "pygments_lexer": "ipython3",
   "version": "3.9.4"
  }
 },
 "nbformat": 4,
 "nbformat_minor": 5
}
